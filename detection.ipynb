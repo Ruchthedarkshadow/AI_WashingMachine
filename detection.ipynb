{
 "cells": [
  {
   "cell_type": "code",
   "execution_count": null,
   "id": "f7dbc1d2",
   "metadata": {},
   "outputs": [
    {
     "name": "stdout",
     "output_type": "stream",
     "text": [
      "Total number of detections: 2357\n"
     ]
    }
   ],
   "source": [
    "import cv2 # Computer vision library\n",
    " \n",
    "# Read the color image\n",
    "image = cv2.imread(\"input.jpg\")\n",
    " \n",
    "# Make a copy\n",
    "new_image = image.copy()\n",
    " \n",
    "# Convert the image to grayscale\n",
    "gray = cv2.cvtColor(image, cv2.COLOR_BGR2GRAY)\n",
    " \n",
    "# Display the grayscale image\n",
    "cv2.waitKey(0) # Wait for keypress to continue\n",
    "cv2.destroyAllWindows() # Close windows\n",
    " \n",
    "# Convert the grayscale image to binary\n",
    "ret, binary = cv2.threshold(gray, 100, 255, \n",
    "  cv2.THRESH_OTSU)\n",
    " \n",
    "# Display the binary image\n",
    "cv2.waitKey(0) # Wait for keypress to continue\n",
    "cv2.destroyAllWindows() # Close windows\n",
    " \n",
    "# To detect object contours, we want a black background and a white \n",
    "# foreground, so we invert the image (i.e. 255 - pixel value)\n",
    "inverted_binary = ~binary\n",
    "cv2.waitKey(0) # Wait for keypress to continue\n",
    "cv2.destroyAllWindows() # Close windows\n",
    " \n",
    "# Find the contours on the inverted binary image, and store them in a list\n",
    "# Contours are drawn around white blobs.\n",
    "# hierarchy variable contains info on the relationship between the contours\n",
    "contours, hierarchy = cv2.findContours(inverted_binary,\n",
    "  cv2.RETR_TREE,\n",
    "  cv2.CHAIN_APPROX_SIMPLE)\n",
    "     \n",
    "# Draw the contours (in red) on the original image and display the result\n",
    "# Input color code is in BGR (blue, green, red) format\n",
    "# -1 means to draw all contours\n",
    "with_contours = cv2.drawContours(image, contours, -1,(255,0,255),3)\n",
    "cv2.waitKey(0)\n",
    "cv2.destroyAllWindows()\n",
    " \n",
    "# Show the total number of contours that were detected\n",
    "print('Total number of detections: ' + str(len(contours)))\n",
    " \n",
    "# Draw just the first contour\n",
    "# The 0 means to draw the first contour\n",
    "'''first_contour = cv2.drawContours(new_image, contours, 0,(255,0,255),3)\n",
    "cv2.waitKey(0)\n",
    "cv2.destroyAllWindows()\n",
    " \n",
    "# Draw a bounding box around the first contour\n",
    "# x is the starting x coordinate of the bounding box\n",
    "# y is the starting y coordinate of the bounding box\n",
    "# w is the width of the bounding box\n",
    "# h is the height of the bounding box\n",
    "x, y, w, h = cv2.boundingRect(contours[0])\n",
    "cv2.rectangle(first_contour,(x,y), (x+w,y+h), (255,0,0), 5)\n",
    "cv2.waitKey(0)\n",
    "cv2.destroyAllWindows()'''\n",
    " \n",
    "# Draw a bounding box around all contours\n",
    "for c in contours:\n",
    "  x, y, w, h = cv2.boundingRect(c)\n",
    " \n",
    "    # Make sure contour area is large enough\n",
    "  if (cv2.contourArea(c)) > 800:\n",
    "    cv2.rectangle(with_contours,(x,y), (x+w,y+h), (255,0,0), 5)\n",
    "\n",
    "cv2.imshow('All contours with bounding box', with_contours)\n",
    "cv2.imwrite('output.jpg', with_contours)\n",
    "cv2.waitKey(0)\n",
    "cv2.destroyAllWindows()\n"
   ]
  },
  {
   "cell_type": "code",
   "execution_count": null,
   "id": "d9fffd55",
   "metadata": {},
   "outputs": [],
   "source": []
  },
  {
   "cell_type": "code",
   "execution_count": null,
   "id": "49e7a083",
   "metadata": {},
   "outputs": [],
   "source": []
  },
  {
   "cell_type": "code",
   "execution_count": null,
   "id": "4af6af67",
   "metadata": {},
   "outputs": [],
   "source": []
  },
  {
   "cell_type": "code",
   "execution_count": null,
   "id": "741a1aa0",
   "metadata": {},
   "outputs": [],
   "source": []
  },
  {
   "cell_type": "code",
   "execution_count": null,
   "id": "9f00527c",
   "metadata": {},
   "outputs": [],
   "source": []
  }
 ],
 "metadata": {
  "kernelspec": {
   "display_name": "Python 3 (ipykernel)",
   "language": "python",
   "name": "python3"
  },
  "language_info": {
   "codemirror_mode": {
    "name": "ipython",
    "version": 3
   },
   "file_extension": ".py",
   "mimetype": "text/x-python",
   "name": "python",
   "nbconvert_exporter": "python",
   "pygments_lexer": "ipython3",
   "version": "3.8.10"
  }
 },
 "nbformat": 4,
 "nbformat_minor": 5
}
